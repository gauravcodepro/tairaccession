{
    "cells": [
        {
            "cell_type": "markdown",
            "metadata": {},
            "source": [
                "# Example usage\n",
                "\n",
                "To use `tairaccession` in a project:"
            ]
        },
        {
            "cell_type": "code",
            "execution_count": 1,
            "metadata": {},
            "outputs": [
                {
                    "name": "stdout",
                    "output_type": "stream",
                    "text": [
                        "0.1.0\n"
                    ]
                }
            ],
            "source": [
                "import tairaccession\n",
                "\n",
                "print(tairaccession.__version__)"
            ]
        },
        {
            "cell_type": "code",
            "execution_count": 2,
            "metadata": {},
            "outputs": [],
            "source": [
                "# to fetch the uniprot tair associations\n",
                "from tairaccession.tairaccession import uniprotAgi"
            ]
        },
        {
            "cell_type": "code",
            "execution_count": 3,
            "metadata": {},
            "outputs": [
                {
                    "data": {
                        "text/plain": [
                            "[('A0A654EWS4', ['AT1G64990.2', 'AT1G64990.1']),\n",
                            " ('A0A654F9L3', ['AT3G22240.1', 'AT3G22240.1']),\n",
                            " ('Q9SRQ8', ['At3g03550']),\n",
                            " ('Q9LRY7', ['At3g24715.1', 'AT3G24715.2', 'AT3G24715.3']),\n",
                            " ('Q9FT69', ['At5g27680.1', 'AT5G27680.2', 'AT5G27680.3', 'AT5G27680.4'])]"
                        ]
                    },
                    "execution_count": 3,
                    "metadata": {},
                    "output_type": "execute_result"
                }
            ],
            "source": [
                "uniprotAgi(\"/Users/gauravsablok/Desktop/release/Uniprot2AGI-Jul2023.txt\", \\\n",
                "                      \"/Users/gauravsablok/Desktop/release/test_ids.txt\")"
            ]
        },
        {
            "cell_type": "code",
            "execution_count": 4,
            "metadata": {},
            "outputs": [],
            "source": [
                "# to fetch the agi to uniprot \n",
                "from tairaccession.tairaccession import agiUniprot"
            ]
        },
        {
            "cell_type": "code",
            "execution_count": 5,
            "metadata": {},
            "outputs": [
                {
                    "data": {
                        "text/plain": [
                            "[('AT5G27680.3', ['Q9FT69']),\n",
                            " ('AT1G64990.1', ['A0A654EWS4']),\n",
                            " ('AT3G22240.1', ['A0A654F9L3']),\n",
                            " ('AT3G24715.2', ['Q9LRY7'])]"
                        ]
                    },
                    "execution_count": 5,
                    "metadata": {},
                    "output_type": "execute_result"
                }
            ],
            "source": [
                "agiUniprot(\"/Users/gauravsablok/Desktop/release/AGI2uniprot-Jul2023.txt\", \\\n",
                "                              \"/Users/gauravsablok/Desktop/release/test_ids.txt\")"
            ]
        },
        {
            "cell_type": "code",
            "execution_count": 6,
            "metadata": {},
            "outputs": [],
            "source": [
                "# to fetch the uniprot to tair associations \n",
                "from tairaccession.tairaccession import uniprotTair"
            ]
        },
        {
            "cell_type": "code",
            "execution_count": 7,
            "metadata": {},
            "outputs": [
                {
                    "data": {
                        "text/plain": [
                            "[('Q9FT69', ['locus:2180255', 'AT5G27680']),\n",
                            " ('Q9XIP7', ['locus:2010796', 'AT1G64990']),\n",
                            " ('Q9LHJ3', ['locus:2091623', 'AT3G22240']),\n",
                            " ('Q9LRY7', ['locus:2093146', 'AT3G24715']),\n",
                            " ('Q9SRQ8', ['locus:2096444', 'AT3G03550']),\n",
                            " ('A0A1P8BBY0', ['locus:2180255', 'AT5G27680']),\n",
                            " ('A0A1P8BBY3', ['locus:2180255', 'AT5G27680']),\n",
                            " ('A0A654F550', ['locus:2096444', 'AT3G03550']),\n",
                            " ('Q0WS90', ['locus:2096444', 'AT3G03550']),\n",
                            " ('A0A654EWS4', ['locus:2010796', 'AT1G64990']),\n",
                            " ('A0A654F9L3', ['locus:2091623', 'AT3G22240'])]"
                        ]
                    },
                    "execution_count": 7,
                    "metadata": {},
                    "output_type": "execute_result"
                }
            ],
            "source": [
                "uniprotTair(\"/Users/gauravsablok/Desktop/release/TAIR2UniprotMapping-Jul2023.txt\", \\\n",
                "                                    \"/Users/gauravsablok/Desktop/release/test_ids.txt\")"
            ]
        },
        {
            "cell_type": "code",
            "execution_count": 8,
            "metadata": {},
            "outputs": [],
            "source": [
                "# to fetch the gene coordinates \n",
                "from tairaccession.tairaccession import agiCoordinates"
            ]
        },
        {
            "cell_type": "code",
            "execution_count": 9,
            "metadata": {},
            "outputs": [
                {
                    "data": {
                        "text/plain": [
                            "[[['AT1G64990'], [24139907, 24146189]],\n",
                            " [['AT3G03550'], [850108, 851590]],\n",
                            " [['AT3G22240'], [7863616, 7864819]],\n",
                            " [['AT3G24715'], [9025849, 9029948]],\n",
                            " [['AT5G27680'], [9793790, 9798961]]]"
                        ]
                    },
                    "execution_count": 9,
                    "metadata": {},
                    "output_type": "execute_result"
                }
            ],
            "source": [
                "# getting the gene coordinates\n",
                "agiCoordinates(\"/Users/gauravsablok/Desktop/release/test_ids.txt\", \\\n",
                "                    \"/Users/gauravsablok/Desktop/release/TAIR10_GFF3_genes.gff\", \\\n",
                "                                                                gene_type = \"gene\")"
            ]
        },
        {
            "cell_type": "code",
            "execution_count": 10,
            "metadata": {},
            "outputs": [
                {
                    "data": {
                        "text/plain": [
                            "[[['AT1G64990', 24145652, 24145980]],\n",
                            " [['AT1G64990', 24145055, 24145155]],\n",
                            " [['AT1G64990', 24144562, 24144669]],\n",
                            " [['AT1G64990', 24143921, 24144041]],\n",
                            " [['AT1G64990', 24143323, 24143452]],\n",
                            " [['AT1G64990', 24142736, 24142814]],\n",
                            " [['AT1G64990', 24142038, 24142126]],\n",
                            " [['AT1G64990', 24141775, 24141867]],\n",
                            " [['AT1G64990', 24141637, 24141663]],\n",
                            " [['AT1G64990', 24141437, 24141523]],\n",
                            " [['AT1G64990', 24141031, 24141102]],\n",
                            " [['AT1G64990', 24140542, 24140672]],\n",
                            " [['AT1G64990', 24139989, 24140336]],\n",
                            " [['AT1G64990', 24146019, 24146189]],\n",
                            " [['AT1G64990', 24145652, 24145915]],\n",
                            " [['AT1G64990', 24145055, 24145155]],\n",
                            " [['AT1G64990', 24144562, 24144669]],\n",
                            " [['AT1G64990', 24143921, 24144041]],\n",
                            " [['AT1G64990', 24143323, 24143452]],\n",
                            " [['AT1G64990', 24142736, 24142814]],\n",
                            " [['AT1G64990', 24142038, 24142126]],\n",
                            " [['AT1G64990', 24141775, 24141867]],\n",
                            " [['AT1G64990', 24141637, 24141663]],\n",
                            " [['AT1G64990', 24141437, 24141523]],\n",
                            " [['AT1G64990', 24141031, 24141102]],\n",
                            " [['AT1G64990', 24140542, 24140672]],\n",
                            " [['AT1G64990', 24139907, 24140336]],\n",
                            " [['AT3G03550', 850108, 851590]],\n",
                            " [['AT3G22240', 7864645, 7864819]],\n",
                            " [['AT3G22240', 7864428, 7864569]],\n",
                            " [['AT3G22240', 7863616, 7863833]],\n",
                            " [['AT3G24715', 9025849, 9028074]],\n",
                            " [['AT3G24715', 9028155, 9028328]],\n",
                            " [['AT3G24715', 9028408, 9028494]],\n",
                            " [['AT3G24715', 9028631, 9028783]],\n",
                            " [['AT3G24715', 9028907, 9029070]],\n",
                            " [['AT3G24715', 9029156, 9029303]],\n",
                            " [['AT3G24715', 9029394, 9029516]],\n",
                            " [['AT3G24715', 9029589, 9029676]],\n",
                            " [['AT3G24715', 9029758, 9029948]],\n",
                            " [['AT5G27680', 9798055, 9798961]],\n",
                            " [['AT5G27680', 9797745, 9797964]],\n",
                            " [['AT5G27680', 9797546, 9797656]],\n",
                            " [['AT5G27680', 9797254, 9797443]],\n",
                            " [['AT5G27680', 9796793, 9797096]],\n",
                            " [['AT5G27680', 9796277, 9796458]],\n",
                            " [['AT5G27680', 9796015, 9796071]],\n",
                            " [['AT5G27680', 9795786, 9795866]],\n",
                            " [['AT5G27680', 9795611, 9795674]],\n",
                            " [['AT5G27680', 9795431, 9795530]],\n",
                            " [['AT5G27680', 9795263, 9795346]],\n",
                            " [['AT5G27680', 9795096, 9795183]],\n",
                            " [['AT5G27680', 9794821, 9794943]],\n",
                            " [['AT5G27680', 9794650, 9794742]],\n",
                            " [['AT5G27680', 9794225, 9794540]],\n",
                            " [['AT5G27680', 9793790, 9794128]]]"
                        ]
                    },
                    "execution_count": 10,
                    "metadata": {},
                    "output_type": "execute_result"
                }
            ],
            "source": [
                "#getting the exon coordinates \n",
                "agiCoordinates(\"/Users/gauravsablok/Desktop/release/test_ids.txt\", \\\n",
                "                    \"/Users/gauravsablok/Desktop/release/TAIR10_GFF3_genes.gff\", \\\n",
                "                                                                  gene_type = \"exon\")"
            ]
        },
        {
            "cell_type": "code",
            "execution_count": 11,
            "metadata": {},
            "outputs": [
                {
                    "data": {
                        "text/plain": [
                            "[['AT1G64990', 24139989, 24140182],\n",
                            " ['AT1G64990', 24139907, 24140182],\n",
                            " ['AT3G03550', 850108, 850390],\n",
                            " ['AT3G22240', 7863616, 7863787],\n",
                            " ['AT5G27680', 9794225, 9794243],\n",
                            " ['AT5G27680', 9793790, 9794128]]"
                        ]
                    },
                    "execution_count": 11,
                    "metadata": {},
                    "output_type": "execute_result"
                }
            ],
            "source": [
                "#getting the three_prime_UTR_coordinates \n",
                "agiCoordinates(\"/Users/gauravsablok/Desktop/release/test_ids.txt\", \\\n",
                "                     \"/Users/gauravsablok/Desktop/release/TAIR10_GFF3_genes.gff\", \\\n",
                "                                                       gene_type = \"three_prime_UTR\")"
            ]
        },
        {
            "cell_type": "code",
            "execution_count": 12,
            "metadata": {},
            "outputs": [
                {
                    "data": {
                        "text/plain": [
                            "[[['AT1G64990', 24145867, 24145980]],\n",
                            " [['AT1G64990', 24146019, 24146189]],\n",
                            " [['AT1G64990', 24145867, 24145915]],\n",
                            " [['AT3G03550', 851462, 851590]],\n",
                            " [['AT3G22240', 7864676, 7864819]],\n",
                            " [['AT5G27680', 9798638, 9798961]]]"
                        ]
                    },
                    "execution_count": 12,
                    "metadata": {},
                    "output_type": "execute_result"
                }
            ],
            "source": [
                "#getting the five_prime_UTR_coordinates \n",
                "agiCoordinates(\"/Users/gauravsablok/Desktop/release/test_ids.txt\", \\\n",
                "                     \"/Users/gauravsablok/Desktop/release/TAIR10_GFF3_genes.gff\", \\\n",
                "                                                       gene_type = \"five_prime_UTR\")"
            ]
        },
        {
            "cell_type": "code",
            "execution_count": 13,
            "metadata": {},
            "outputs": [],
            "source": [
                "# to fetch the GO annotations\n",
                "from tairaccession.tairaccession import getagiGO"
            ]
        },
        {
            "cell_type": "code",
            "execution_count": 14,
            "metadata": {},
            "outputs": [
                {
                    "data": {
                        "text/plain": [
                            "[('AT5G27680', 'GO:0000724'),\n",
                            " ('AT5G27680', 'GO:0003676'),\n",
                            " ('AT5G27680', 'GO:0005634'),\n",
                            " ('AT5G27680', 'GO:0005634'),\n",
                            " ('AT5G27680', 'GO:0005634'),\n",
                            " ('AT5G27680', 'GO:0005634'),\n",
                            " ('AT5G27680', 'GO:0005634'),\n",
                            " ('AT5G27680', 'GO:0005634'),\n",
                            " ('AT5G27680', 'GO:0005634'),\n",
                            " ('AT5G27680', 'GO:0005694'),\n",
                            " ('AT5G27680', 'GO:0005737'),\n",
                            " ('AT5G27680', 'GO:0006268'),\n",
                            " ('AT5G27680', 'GO:0006310'),\n",
                            " ('AT5G27680', 'GO:0009378'),\n",
                            " ('AT5G27680', 'GO:0043138'),\n",
                            " ('AT5G27680', 'GO:0006281'),\n",
                            " ('AT5G27680', 'GO:0032508'),\n",
                            " ('AT5G27680', 'GO:0043138'),\n",
                            " ('AT3G22240', 'GO:0005634'),\n",
                            " ('AT3G22240', 'GO:0005886'),\n",
                            " ('AT3G22240', 'GO:0005515'),\n",
                            " ('AT3G22240', 'GO:0005515'),\n",
                            " ('AT3G22240', 'GO:0005634'),\n",
                            " ('AT3G22240', 'GO:0005634'),\n",
                            " ('AT3G22240', 'GO:0005737'),\n",
                            " ('AT3G22240', 'GO:0005886'),\n",
                            " ('AT3G22240', 'GO:0009620'),\n",
                            " ('AT3G22240', 'GO:0042435'),\n",
                            " ('AT3G22240', 'GO:0044248'),\n",
                            " ('AT3G22240', 'GO:0044550'),\n",
                            " ('AT1G64990', 'GO:0009737'),\n",
                            " ('AT1G64990', 'GO:0010427'),\n",
                            " ('AT1G64990', 'GO:0005515'),\n",
                            " ('AT1G64990', 'GO:0005525'),\n",
                            " ('AT1G64990', 'GO:0005886'),\n",
                            " ('AT1G64990', 'GO:0009737'),\n",
                            " ('AT1G64990', 'GO:0009791'),\n",
                            " ('AT1G64990', 'GO:0010228'),\n",
                            " ('AT1G64990', 'GO:0010427'),\n",
                            " ('AT1G64990', 'GO:0043231'),\n",
                            " ('AT1G64990', 'GO:0051020'),\n",
                            " ('AT3G03550', 'GO:0003674'),\n",
                            " ('AT3G03550', 'GO:0005634'),\n",
                            " ('AT3G03550', 'GO:0016567'),\n",
                            " ('AT3G03550', 'GO:0016567'),\n",
                            " ('AT3G24715', 'GO:0004672'),\n",
                            " ('AT3G24715', 'GO:0005634'),\n",
                            " ('AT3G24715', 'GO:0005634'),\n",
                            " ('AT3G24715', 'GO:0005634'),\n",
                            " ('AT3G24715', 'GO:0005737'),\n",
                            " ('AT3G24715', 'GO:0007165'),\n",
                            " ('AT3G24715', 'GO:0005730'),\n",
                            " ('AT3G24715', 'GO:0005737'),\n",
                            " ('AT3G24715', 'GO:0006468'),\n",
                            " ('AT3G24715', 'GO:0006833'),\n",
                            " ('AT3G24715', 'GO:0016301'),\n",
                            " ('AT3G24715', 'GO:0071456')]"
                        ]
                    },
                    "execution_count": 14,
                    "metadata": {},
                    "output_type": "execute_result"
                }
            ],
            "source": [
                "getagiGO(\"/Users/gauravsablok/Desktop/release/test_ids.txt\", \\\n",
                "                         \"/Users/gauravsablok/Desktop/release/gene_association.tair\")"
            ]
        },
        {
            "cell_type": "code",
            "execution_count": 15,
            "metadata": {},
            "outputs": [],
            "source": [
                "# to fetch the tair communication\n",
                "from tairaccession.tairaccession import getagiTAIR"
            ]
        },
        {
            "cell_type": "code",
            "execution_count": 16,
            "metadata": {},
            "outputs": [
                {
                    "data": {
                        "text/plain": [
                            "[('AT5G27680', '501741973'),\n",
                            " ('AT5G27680', '501756966'),\n",
                            " ('AT5G27680', '501741973'),\n",
                            " ('AT5G27680', '501780126'),\n",
                            " ('AT5G27680', '501780126'),\n",
                            " ('AT5G27680', '501780126'),\n",
                            " ('AT5G27680', '501780126'),\n",
                            " ('AT5G27680', '501780126'),\n",
                            " ('AT5G27680', '501780126'),\n",
                            " ('AT5G27680', '501741973'),\n",
                            " ('AT5G27680', '501741973'),\n",
                            " ('AT5G27680', '501741973'),\n",
                            " ('AT5G27680', '501756966'),\n",
                            " ('AT5G27680', '501741973'),\n",
                            " ('AT5G27680', '501741973'),\n",
                            " ('AT5G27680', '501718175'),\n",
                            " ('AT5G27680', '501718175'),\n",
                            " ('AT5G27680', '501718175'),\n",
                            " ('AT3G22240', '501780126'),\n",
                            " ('AT3G22240', '501741973'),\n",
                            " ('AT3G22240', '501778110'),\n",
                            " ('AT3G22240', '501778110'),\n",
                            " ('AT3G22240', '501778110'),\n",
                            " ('AT3G22240', '501778110'),\n",
                            " ('AT3G22240', '501778110'),\n",
                            " ('AT3G22240', '501778110'),\n",
                            " ('AT3G22240', '501796011'),\n",
                            " ('AT3G22240', '501796011'),\n",
                            " ('AT3G22240', '501796011'),\n",
                            " ('AT3G22240', '501796011'),\n",
                            " ('AT1G64990', '501741973'),\n",
                            " ('AT1G64990', '501741973'),\n",
                            " ('AT1G64990', '501730286'),\n",
                            " ('AT1G64990', '501730286'),\n",
                            " ('AT1G64990', '501730286'),\n",
                            " ('AT1G64990', '501730286'),\n",
                            " ('AT1G64990', '501730286'),\n",
                            " ('AT1G64990', '501730286'),\n",
                            " ('AT1G64990', '501730286'),\n",
                            " ('AT1G64990', '501730286'),\n",
                            " ('AT1G64990', '501730286'),\n",
                            " ('AT3G03550', '1345790'),\n",
                            " ('AT3G03550', '501780126'),\n",
                            " ('AT3G03550', '501741973'),\n",
                            " ('AT3G03550', '501757242'),\n",
                            " ('AT3G24715', '501741973'),\n",
                            " ('AT3G24715', '501780126'),\n",
                            " ('AT3G24715', '501780126'),\n",
                            " ('AT3G24715', '501780126'),\n",
                            " ('AT3G24715', '501741973'),\n",
                            " ('AT3G24715', '501741973'),\n",
                            " ('AT3G24715', '501771725'),\n",
                            " ('AT3G24715', '501771725'),\n",
                            " ('AT3G24715', '501771725'),\n",
                            " ('AT3G24715', '501771725'),\n",
                            " ('AT3G24715', '501771725'),\n",
                            " ('AT3G24715', '501771725')]"
                        ]
                    },
                    "execution_count": 16,
                    "metadata": {},
                    "output_type": "execute_result"
                }
            ],
            "source": [
                "getagiTAIR(\"/Users/gauravsablok/Desktop/release/test_ids.txt\", \\\n",
                "                         \"/Users/gauravsablok/Desktop/release/gene_association.tair\")"
            ]
        },
        {
            "cell_type": "code",
            "execution_count": 17,
            "metadata": {},
            "outputs": [],
            "source": [
                "# to fetch the description\n",
                "from tairaccession.tairaccession import getagiDescription"
            ]
        },
        {
            "cell_type": "code",
            "execution_count": 18,
            "metadata": {},
            "outputs": [
                {
                    "data": {
                        "text/plain": [
                            "[('AT5G27680', 'AT5G27680|RECQSIM|RECQ helicase SIM|T1G16.10|T1G16_10'),\n",
                            " ('AT5G27680', 'AT5G27680|RECQSIM|RECQ helicase SIM|T1G16.10|T1G16_10'),\n",
                            " ('AT5G27680', 'AT5G27680|RECQSIM|RECQ helicase SIM|T1G16.10|T1G16_10'),\n",
                            " ('AT5G27680', 'AT5G27680|AT5G27680.1|T1G16.10|T1G16_10'),\n",
                            " ('AT5G27680', 'AT5G27680|AT5G27680.2'),\n",
                            " ('AT5G27680', 'AT5G27680|AT5G27680.3'),\n",
                            " ('AT5G27680', 'AT5G27680|AT5G27680.4'),\n",
                            " ('AT5G27680', 'AT5G27680|AT5G27680.5'),\n",
                            " ('AT5G27680', 'AT5G27680|AT5G27680.6'),\n",
                            " ('AT5G27680', 'AT5G27680|RECQSIM|RECQ helicase SIM|T1G16.10|T1G16_10'),\n",
                            " ('AT5G27680', 'AT5G27680|RECQSIM|RECQ helicase SIM|T1G16.10|T1G16_10'),\n",
                            " ('AT5G27680', 'AT5G27680|RECQSIM|RECQ helicase SIM|T1G16.10|T1G16_10'),\n",
                            " ('AT5G27680', 'AT5G27680|RECQSIM|RECQ helicase SIM|T1G16.10|T1G16_10'),\n",
                            " ('AT5G27680', 'AT5G27680|RECQSIM|RECQ helicase SIM|T1G16.10|T1G16_10'),\n",
                            " ('AT5G27680', 'AT5G27680|RECQSIM|RECQ helicase SIM|T1G16.10|T1G16_10'),\n",
                            " ('AT5G27680', 'AT5G27680|RECQSIM|RECQ helicase SIM|T1G16.10|T1G16_10'),\n",
                            " ('AT5G27680', 'AT5G27680|RECQSIM|RECQ helicase SIM|T1G16.10|T1G16_10'),\n",
                            " ('AT5G27680', 'AT5G27680|RECQSIM|RECQ helicase SIM|T1G16.10|T1G16_10'),\n",
                            " ('AT3G22240', 'AT3G22240|AT3G22240.1|MMP21.2'),\n",
                            " ('AT3G22240',\n",
                            "  'AT3G22240|AthCYSTM9|Cysteine-Rich Transmembrane Module 9|MMP21.2'),\n",
                            " ('AT3G22240',\n",
                            "  'AT3G22240|AthCYSTM9|Cysteine-Rich Transmembrane Module 9|MMP21.2'),\n",
                            " ('AT3G22240',\n",
                            "  'AT3G22240|AthCYSTM9|Cysteine-Rich Transmembrane Module 9|MMP21.2'),\n",
                            " ('AT3G22240',\n",
                            "  'AT3G22240|AthCYSTM9|Cysteine-Rich Transmembrane Module 9|MMP21.2'),\n",
                            " ('AT3G22240',\n",
                            "  'AT3G22240|AthCYSTM9|Cysteine-Rich Transmembrane Module 9|MMP21.2'),\n",
                            " ('AT3G22240',\n",
                            "  'AT3G22240|AthCYSTM9|Cysteine-Rich Transmembrane Module 9|MMP21.2'),\n",
                            " ('AT3G22240',\n",
                            "  'AT3G22240|AthCYSTM9|Cysteine-Rich Transmembrane Module 9|MMP21.2'),\n",
                            " ('AT3G22240',\n",
                            "  'AT3G22240|AthCYSTM9|Cysteine-Rich Transmembrane Module 9|MMP21.2'),\n",
                            " ('AT3G22240',\n",
                            "  'AT3G22240|AthCYSTM9|Cysteine-Rich Transmembrane Module 9|MMP21.2'),\n",
                            " ('AT3G22240',\n",
                            "  'AT3G22240|AthCYSTM9|Cysteine-Rich Transmembrane Module 9|MMP21.2'),\n",
                            " ('AT3G22240',\n",
                            "  'AT3G22240|AthCYSTM9|Cysteine-Rich Transmembrane Module 9|MMP21.2'),\n",
                            " ('AT1G64990', 'AT1G64990|GTG1|GPCR-type G protein 1|F13O11.29|F13O11_29'),\n",
                            " ('AT1G64990', 'AT1G64990|GTG1|GPCR-type G protein 1|F13O11.29|F13O11_29'),\n",
                            " ('AT1G64990', 'AT1G64990|GTG1|GPCR-type G protein 1|F13O11.29|F13O11_29'),\n",
                            " ('AT1G64990', 'AT1G64990|GTG1|GPCR-type G protein 1|F13O11.29|F13O11_29'),\n",
                            " ('AT1G64990', 'AT1G64990|GTG1|GPCR-type G protein 1|F13O11.29|F13O11_29'),\n",
                            " ('AT1G64990', 'AT1G64990|GTG1|GPCR-type G protein 1|F13O11.29|F13O11_29'),\n",
                            " ('AT1G64990', 'AT1G64990|GTG1|GPCR-type G protein 1|F13O11.29|F13O11_29'),\n",
                            " ('AT1G64990', 'AT1G64990|GTG1|GPCR-type G protein 1|F13O11.29|F13O11_29'),\n",
                            " ('AT1G64990', 'AT1G64990|GTG1|GPCR-type G protein 1|F13O11.29|F13O11_29'),\n",
                            " ('AT1G64990', 'AT1G64990|GTG1|GPCR-type G protein 1|F13O11.29|F13O11_29'),\n",
                            " ('AT1G64990', 'AT1G64990|GTG1|GPCR-type G protein 1|F13O11.29|F13O11_29'),\n",
                            " ('AT3G03550',\n",
                            "  'AT3G03550|ATL51|Arabidopsis TÃ³xicos en Levadura 51|T12J13.17|T12J13_17'),\n",
                            " ('AT3G03550', 'AT3G03550|AT3G03550.1|T12J13.17|T12J13_17'),\n",
                            " ('AT3G03550',\n",
                            "  'AT3G03550|ATL51|Arabidopsis TÃ³xicos en Levadura 51|T12J13.17|T12J13_17'),\n",
                            " ('AT3G03550',\n",
                            "  'AT3G03550|ATL51|Arabidopsis TÃ³xicos en Levadura 51|T12J13.17|T12J13_17'),\n",
                            " ('AT3G24715', 'AT3G24715|HCR1|Hydraulic Conductivity of Root 1|MSD24.11'),\n",
                            " ('AT3G24715', 'AT3G24715|AT3G24715.1|MSD24.11'),\n",
                            " ('AT3G24715', 'AT3G24715|AT3G24715.2'),\n",
                            " ('AT3G24715', 'AT3G24715|AT3G24715.3'),\n",
                            " ('AT3G24715', 'AT3G24715|HCR1|Hydraulic Conductivity of Root 1|MSD24.11'),\n",
                            " ('AT3G24715', 'AT3G24715|HCR1|Hydraulic Conductivity of Root 1|MSD24.11'),\n",
                            " ('AT3G24715', 'AT3G24715|HCR1|Hydraulic Conductivity of Root 1|MSD24.11'),\n",
                            " ('AT3G24715', 'AT3G24715|HCR1|Hydraulic Conductivity of Root 1|MSD24.11'),\n",
                            " ('AT3G24715', 'AT3G24715|HCR1|Hydraulic Conductivity of Root 1|MSD24.11'),\n",
                            " ('AT3G24715', 'AT3G24715|HCR1|Hydraulic Conductivity of Root 1|MSD24.11'),\n",
                            " ('AT3G24715', 'AT3G24715|HCR1|Hydraulic Conductivity of Root 1|MSD24.11'),\n",
                            " ('AT3G24715', 'AT3G24715|HCR1|Hydraulic Conductivity of Root 1|MSD24.11')]"
                        ]
                    },
                    "execution_count": 18,
                    "metadata": {},
                    "output_type": "execute_result"
                }
            ],
            "source": [
                "getagiDescription(\"/Users/gauravsablok/Desktop/release/test_ids.txt\", \\\n",
                "                         \"/Users/gauravsablok/Desktop/release/gene_association.tair\")"
            ]
        },
        {
            "cell_type": "code",
            "execution_count": null,
            "metadata": {},
            "outputs": [],
            "source": []
        }
    ],
    "metadata": {
        "kernelspec": {
            "display_name": "Python 3",
            "language": "python",
            "name": "python3"
        },
        "language_info": {
            "codemirror_mode": {
                "name": "ipython",
                "version": 3
            },
            "file_extension": ".py",
            "mimetype": "text/x-python",
            "name": "python",
            "nbconvert_exporter": "python",
            "pygments_lexer": "ipython3",
            "version": "3.10.12"
        }
    },
    "nbformat": 4,
    "nbformat_minor": 4
}
